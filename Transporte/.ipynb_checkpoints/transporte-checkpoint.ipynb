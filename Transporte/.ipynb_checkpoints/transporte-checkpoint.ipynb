{
 "cells": [
  {
   "cell_type": "code",
   "execution_count": 88,
   "metadata": {},
   "outputs": [],
   "source": [
    "import numpy as np\n",
    "import pandas as pd\n",
    "import itertools\n",
    "import typing\n",
    "from enum import Enum, unique"
   ]
  },
  {
   "cell_type": "code",
   "execution_count": 89,
   "metadata": {},
   "outputs": [],
   "source": [
    "@unique\n",
    "class Artificial(IntEnum):\n",
    "    ORIGENES = 1\n",
    "    DESTINOS = 2"
   ]
  },
  {
   "cell_type": "code",
   "execution_count": 2,
   "metadata": {},
   "outputs": [],
   "source": [
    "oferta_origenes = []\n",
    "demanda_destinos = []\n",
    "num_origenes = 0\n",
    "num_destinos = 0\n",
    "num_transbordos = 0\n",
    "mat_costo = []\n",
    "mat_sombra = []\n",
    "mat_dec = []\n",
    "mat_base = []\n",
    "artificial = 0"
   ]
  },
  {
   "cell_type": "code",
   "execution_count": 3,
   "metadata": {},
   "outputs": [],
   "source": [
    "def input_int(message):\n",
    "    return int(input(message))\n",
    "\n",
    "def try_again():\n",
    "    input_int(\"\")"
   ]
  },
  {
   "cell_type": "code",
   "execution_count": 4,
   "metadata": {},
   "outputs": [],
   "source": [
    "def inicializarVariables():\n",
    "    global oferta_origenes\n",
    "    global demanda_destinos\n",
    "    global num_origenes\n",
    "    global num_destinos\n",
    "    global num_transbordos\n",
    "    global mat_costo\n",
    "    global mat_sombra\n",
    "    global mat_dec\n",
    "    global mat_base\n",
    "    global artificial\n",
    "    oferta_origenes = []\n",
    "    demanda_destinos = []\n",
    "    num_origenes = 0\n",
    "    num_destinos = 0\n",
    "    num_transbordos = 0\n",
    "    mat_costo = []\n",
    "    mat_sombra = []\n",
    "    mat_dec = []\n",
    "    mat_base = []\n",
    "    artificial = 0"
   ]
  },
  {
   "cell_type": "code",
   "execution_count": 90,
   "metadata": {},
   "outputs": [],
   "source": [
    "# Solicitar Variables\n",
    "def solicitarDatos():\n",
    "    \"\"\"Esta función es para llenar los datos usados en el modelo.\n",
    "    Se solicita mediante input en consola.\n",
    "    Pedimos 3 cosas:\n",
    "     * Pedimos la cantidad de origenes, destinos y transbordos.\n",
    "     * Pedimos las ofertas de cada origen y demandas de cada destino.\n",
    "     * Pedimos el costo de de cada posible transicion.\n",
    "    \"\"\"\n",
    "    print(\"Vamos a resolver un problemas de transporte.\")\n",
    "    try:\n",
    "        global oferta_origenes\n",
    "        global demanda_destinos\n",
    "        global num_origenes\n",
    "        global num_destinos\n",
    "        global num_transbordos\n",
    "        global mat_costo\n",
    "        global artificial\n",
    "        \n",
    "        # Cantidad de orignes, destinos y transbordos. \n",
    "        num_origenes = input_int(\"¿Cuantos origenes tiene tu problema?\")\n",
    "        num_destinos = input_int(\"¿Cuantos destinos tiene tu problema?\")\n",
    "        num_transbordos = input_int(\"¿Cuantos transbordos?\\n(Si no tiene transbordo pon 0)\")\n",
    "        \n",
    "        # Ofertas de cada origen y demandas de cada destino\n",
    "        for i in range(num_origenes):\n",
    "            oferta_origenes.append(input_int(\"¿Cuál es la oferta de tu origen #{}\".format(i+1)))\n",
    "            \n",
    "        oferta_transbordos = [sum(oferta_origenes)]*num_transbordos\n",
    "        oferta_origenes += oferta_transbordos\n",
    "\n",
    "        demanda_destinos += oferta_transbordos\n",
    "        for i in range(num_destinos):\n",
    "            demanda_destinos.append(input_int(\"¿Cuál es la demanda de tu destino #{}\".format(i+1)))\n",
    "        \n",
    "        print(oferta_origenes, demanda_destinos)\n",
    "            \n",
    "        # Matriz de costos\n",
    "        print(\"Excelente ahora llenemos la matriz de costos.\")\n",
    "        print(\"Si una conexion no es valida inserta una x.\")\n",
    "        for i in range(num_destinos+num_transbordos):\n",
    "            mat_costo.append([])\n",
    "        num_cols = num_destinos+num_transbordos\n",
    "        num_filas = num_origenes+num_transbordos\n",
    "        max_cant_conexiones = (num_filas)*(num_cols)\n",
    "        \n",
    "        for i in range(max_cant_conexiones):\n",
    "            fila = i//num_filas # ORIGENES\n",
    "            col = i%num_cols # DESTINOS\n",
    "            origen = \"origen\" if fila<num_origenes else \"transbordo\"\n",
    "            n_origen = fila+1 if fila<num_origenes else fila+1-num_origenes\n",
    "            destino = \"transbordo\" if col<num_transbordos else \"destino\"\n",
    "            n_destino = col+1 if col<num_transbordos else col+1-num_transbordos\n",
    "            temp_val = input(\"Costo de {} #{} al {} #{} es:\".format(origen, n_origen, destino, n_destino))\n",
    "            # TODO: Validaciones de la entrada de costos\n",
    "            temp_val = int(temp_val) if temp_val!=\"x\" or temp_val1==\"X\" else -1\n",
    "            temp_val = temp_val if temp_val>=0 else -1\n",
    "            \n",
    "            mat_costo[i//num_filas].append(temp_val\n",
    "                                          )\n",
    "        if sum(oferta_origenes)>sum(demanda_destinos):\n",
    "            artificial = Artificial.DESTINOS\n",
    "            demanda_destinos.append(sum(oferta_origenes)-sum(demanda_destinos))\n",
    "            for i in range(num_filas):\n",
    "                mat_costo[i].append(0)\n",
    "                \n",
    "        elif sum(oferta_origenes)<sum(demanda_destinos):\n",
    "            artificial = Artificial.ORIGENES\n",
    "            oferta_origenes.append(sum(demanda_destinos)-sum(oferta_origenes))\n",
    "            mat_costo.append([0]*num_cols)\n",
    "               \n",
    "        oferta_origenes = np.array(oferta_origenes)\n",
    "        demanda_destinos = np.array(demanda_destinos)\n",
    "        mat_costo = np.array(mat_costo)\n",
    "        \n",
    "    except ValueError:\n",
    "        print(\"No entendí eso. :( Porfavor solo inserta valores numéricos\")\n",
    "        print(\"Enter para intentar otra vez.\")\n",
    "        inicializarVariables()\n",
    "        input()\n",
    "        solicitarDatos()\n",
    "    except BaseException as e:\n",
    "        print(\"Ups parece que hubo un error!\")\n",
    "        print(e)\n",
    "        e.traceback()\n",
    "        print(\"Enter para intentar otra vez.\")\n",
    "        inicializarVariables()\n",
    "        input()\n",
    "        solicitarDatos()\n"
   ]
  },
  {
   "cell_type": "code",
   "execution_count": 91,
   "metadata": {},
   "outputs": [],
   "source": [
    "# inicializarVariables()\n",
    "# solicitarDatos()\n",
    "\n",
    "num_origenes = 2\n",
    "num_destinos = 2\n",
    "num_transbordos = 2\n",
    "oferta_origenes = np.array([150,200,350,350])\n",
    "demanda_destinos = np.array([350,350,130,130,90])\n",
    "artificial = Artificial.DESTINOS\n",
    "\n",
    "mat_costo = np.array([\n",
    "    [8, 13, 25, 28, 0],\n",
    "    [15, 12, 26, 25, 0],\n",
    "    [0, 6, 16, 17, 0 ],\n",
    "    [6, 0, 14, 16, 0]\n",
    "])"
   ]
  },
  {
   "cell_type": "code",
   "execution_count": 7,
   "metadata": {},
   "outputs": [],
   "source": [
    "def noroeste(oOfertas: np.ndarray, oDemandas: np.ndarray, oTransbordos: int = 0) -> np.ndarray:\n",
    "    ofertas = oOfertas.copy()\n",
    "    demandas = oDemandas.copy()\n",
    "    transbordos = oTransbordos\n",
    "    print(ofertas, demandas, transbordos)\n",
    "    sobrante_oferta = ofertas.sum()\n",
    "    origen_idx = 0\n",
    "    destino_idx = 0\n",
    "    \n",
    "    mat_dec = np.zeros((len(ofertas), len(demandas)))\n",
    "    mat_base = np.full((len(ofertas), len(demandas)), False)\n",
    "    \n",
    "    while sobrante_oferta > 0:\n",
    "        current = min(ofertas[origen_idx], demandas[destino_idx])\n",
    "        mat_dec[origen_idx][destino_idx] = current\n",
    "        mat_base[origen_idx][destino_idx] = True\n",
    "        sobrante_oferta -= current\n",
    "        ofertas[origen_idx] -= current\n",
    "        demandas[destino_idx] -= current\n",
    "        if ofertas[origen_idx] <= demandas[destino_idx]:\n",
    "            origen_idx += 1\n",
    "        else:\n",
    "            destino_idx +=1\n",
    "    return mat_dec, mat_base\n",
    "    "
   ]
  },
  {
   "cell_type": "code",
   "execution_count": 8,
   "metadata": {},
   "outputs": [
    {
     "name": "stdout",
     "output_type": "stream",
     "text": [
      "[150 200 350 350] [350 350 130 130  90] 2\n"
     ]
    },
    {
     "data": {
      "text/plain": [
       "(array([[150.,   0.,   0.,   0.,   0.],\n",
       "        [200.,   0.,   0.,   0.,   0.],\n",
       "        [  0., 350.,   0.,   0.,   0.],\n",
       "        [  0.,   0., 130., 130.,  90.]]),\n",
       " array([[ True, False, False, False, False],\n",
       "        [ True, False, False, False, False],\n",
       "        [ True,  True, False, False, False],\n",
       "        [False,  True,  True,  True,  True]]))"
      ]
     },
     "execution_count": 8,
     "metadata": {},
     "output_type": "execute_result"
    }
   ],
   "source": [
    "mat_dec, mat_base = noroeste(oferta_origenes, demanda_destinos, num_transbordos)\n",
    "mat_dec, mat_base"
   ]
  },
  {
   "cell_type": "code",
   "execution_count": 121,
   "metadata": {},
   "outputs": [],
   "source": [
    "def costo_minimo(oOfertas: np.ndarray , oDemandas: np.ndarray , oCostos: np.ndarray, oTransbordos: int = 0) -> np.ndarray:\n",
    "    ofertas = oOfertas.copy()\n",
    "    demandas = oDemandas.copy()\n",
    "    costos = oCostos.copy()\n",
    "    transbordos = oTransbordos\n",
    "    print(\"ofertas\", ofertas)\n",
    "    print(\"demandas\", demandas)\n",
    "    print(\"costos\", costos)\n",
    "    print(\"trasnbordos\", transbordos)\n",
    "    \n",
    "    sobrante_oferta = ofertas.sum()\n",
    "    sobrante_origenes = ofertas[0:len(ofertas)-transbordos].sum()\n",
    "    sobrante_demandas = demandas[transbordos:-1].sum() if artificial == Artificial.DESTINOS else demandas[transbordos:].sum()\n",
    "    origenes_disponibles = [True]*len(ofertas)\n",
    "    destinos_disponibles = [True]*len(demandas)\n",
    "    \n",
    "    mat_dec = np.zeros((len(ofertas), len(demandas)))\n",
    "    mat_base = np.full((len(ofertas), len(demandas)), False)\n",
    "    \n",
    "    counter = 0\n",
    "    \n",
    "    import pdb\n",
    "    \n",
    "    while sobrante_origenes > 0 and counter < 20:\n",
    "        costos_origenes = costos[0:len(ofertas)-transbordos,]\n",
    "        costos_origenes = costos_origenes[origenes_disponibles[0:len(ofertas)-transbordos]]\n",
    "        costos_origenes = costos_origenes[:,destinos_disponibles]\n",
    "        minimo = costos_origenes.min()\n",
    "        minimo = minimo if minimo > 0 else np.partition(np.unique(costos_origenes), 1)[1]\n",
    "        fila = np.where(costos_origenes == minimo)[0]\n",
    "        fila = fila[0]\n",
    "        col = np.where(costos_origenes[fila] == minimo)[0][0]\n",
    "        \n",
    "        current = min(ofertas[origenes_disponibles][fila], demandas[destinos_disponibles][col])\n",
    "        \n",
    "        campos_disponibles = [x[0] and x[1] for x in itertools.product(origenes_disponibles,destinos_disponibles)]\n",
    "        campos_disponibles = np.array(campos_disponibles).reshape(len(ofertas), len(demandas))\n",
    "        fila = np.where(np.logical_and(costos == minimo, campos_disponibles))[0][0]\n",
    "        col = np.where(costos[fila] == minimo)[0][0]\n",
    "        mat_dec[fila][col] = current\n",
    "        mat_base[fila][col] = True\n",
    "        \n",
    "        sobrante_oferta -= current\n",
    "        sobrante_origenes -= current\n",
    "        ofertas[fila] -= current\n",
    "        demandas[col] -= current\n",
    "        if ofertas[fila] <= demandas[col]:\n",
    "            origenes_disponibles[fila] = False\n",
    "        else:\n",
    "            destinos_disponibles[col] = False\n",
    "        counter += 1\n",
    "        \n",
    "    counter = 0\n",
    "\n",
    "            \n",
    "    while sobrante_demandas > 0 and counter < 20:\n",
    "        costos_demandas = costos[:,transbordos:]\n",
    "        costos_demandas = costos_demandas[origenes_disponibles,:]\n",
    "        costos_demandas = costos_demandas[:,destinos_disponibles[transbordos:]]\n",
    "        \n",
    "        minimo = costos_demandas.min()\n",
    "        minimo = minimo if minimo > 0 else np.partition(np.unique(costos_demandas), 1)[1]\n",
    "        fila = np.where(costos_demandas == minimo)[0]\n",
    "        fila = fila[0]\n",
    "        col = np.where(costos_demandas[fila] == minimo)[0][0]\n",
    "        \n",
    "        current = min(ofertas[origenes_disponibles][fila], demandas[destinos_disponibles][transbordos:][col])\n",
    "        \n",
    "        campos_disponibles = [x[0] and x[1] for x in itertools.product(origenes_disponibles,destinos_disponibles)]\n",
    "        campos_disponibles = np.array(campos_disponibles).reshape(len(ofertas), len(demandas))\n",
    "        fila = np.where(np.logical_and(costos == minimo, campos_disponibles))[0][0]\n",
    "        col = np.where(costos[fila] == minimo)[0][0]\n",
    "        mat_dec[fila][col] = current\n",
    "        mat_base[fila][col] = True\n",
    "        \n",
    "        sobrante_oferta -= current\n",
    "        sobrante_demandas -= current\n",
    "        ofertas[fila] -= current\n",
    "        demandas[col] -= current\n",
    "        if ofertas[fila] <= demandas[col]:\n",
    "            origenes_disponibles[fila] = False\n",
    "        else:\n",
    "            destinos_disponibles[col] = False\n",
    "        counter += 1\n",
    "\n",
    "    counter = 0\n",
    "\n",
    "            \n",
    "    while sobrante_oferta > 0 and counter < 20:\n",
    "        pdb.set_trace()\n",
    "        costos_sobrantes = costos[origenes_disponibles,:]\n",
    "        costos_sobrantes = costos_sobrantes[:,destinos_disponibles]\n",
    "        \n",
    "        minimo = costos_sobrantes.min()\n",
    "#         minimo = minimo if minimo > 0 else np.partition(np.unique(costos_sobrantes), 1)[1]\n",
    "        fila = np.where(costos_sobrantes == minimo)[0]\n",
    "        fila = fila[0]\n",
    "        col = np.where(costos_sobrantes[fila] == minimo)[0][0]\n",
    "        \n",
    "        current = min(ofertas[origenes_disponibles][fila], demandas[destinos_disponibles][col])\n",
    "        \n",
    "        campos_disponibles = [x[0] and x[1] for x in itertools.product(origenes_disponibles,destinos_disponibles)]\n",
    "        campos_disponibles = np.array(campos_disponibles).reshape(len(ofertas), len(demandas))\n",
    "        fila = np.where(np.logical_and(costos == minimo, campos_disponibles))[0][0]\n",
    "        col = np.where(np.logical_and(costos == minimo, campos_disponibles))[1][0]\n",
    "        mat_dec[fila][col] = current\n",
    "        mat_base[fila][col] = True\n",
    "        \n",
    "        sobrante_oferta -= current\n",
    "        sobrante_demandas -= current\n",
    "        ofertas[fila] -= current\n",
    "        demandas[col] -= current\n",
    "        if ofertas[fila] <= demandas[col]:\n",
    "            origenes_disponibles[fila] = False\n",
    "        else:\n",
    "            destinos_disponibles[col] = False\n",
    "        print(mat_dec)\n",
    "        print(mat_base)\n",
    "        print(\"origenes disponibles: \",origenes_disponibles)\n",
    "        print(\"destinos disponibles: \",destinos_disponibles)\n",
    "            \n",
    "    return mat_dec, mat_base"
   ]
  },
  {
   "cell_type": "code",
   "execution_count": 122,
   "metadata": {},
   "outputs": [
    {
     "name": "stdout",
     "output_type": "stream",
     "text": [
      "ofertas [150 200 350 350]\n",
      "demandas [350 350 130 130  90]\n",
      "costos [[ 8 13 25 28  0]\n",
      " [15 12 26 25  0]\n",
      " [ 0  6 16 17  0]\n",
      " [ 6  0 14 16  0]]\n",
      "trasnbordos 2\n",
      "> <ipython-input-121-d90ba9d6e13f>(91)costo_minimo()\n",
      "-> costos_sobrantes = costos[origenes_disponibles,:]\n"
     ]
    },
    {
     "name": "stdin",
     "output_type": "stream",
     "text": [
      "(Pdb)  n\n"
     ]
    },
    {
     "name": "stdout",
     "output_type": "stream",
     "text": [
      "> <ipython-input-121-d90ba9d6e13f>(92)costo_minimo()\n",
      "-> costos_sobrantes = costos_sobrantes[:,destinos_disponibles]\n"
     ]
    },
    {
     "name": "stdin",
     "output_type": "stream",
     "text": [
      "(Pdb)  n\n"
     ]
    },
    {
     "name": "stdout",
     "output_type": "stream",
     "text": [
      "> <ipython-input-121-d90ba9d6e13f>(94)costo_minimo()\n",
      "-> minimo = costos_sobrantes.min()\n"
     ]
    },
    {
     "name": "stdin",
     "output_type": "stream",
     "text": [
      "(Pdb)  n\n"
     ]
    },
    {
     "name": "stdout",
     "output_type": "stream",
     "text": [
      "> <ipython-input-121-d90ba9d6e13f>(96)costo_minimo()\n",
      "-> fila = np.where(costos_sobrantes == minimo)[0]\n"
     ]
    },
    {
     "name": "stdin",
     "output_type": "stream",
     "text": [
      "(Pdb)  n\n"
     ]
    },
    {
     "name": "stdout",
     "output_type": "stream",
     "text": [
      "> <ipython-input-121-d90ba9d6e13f>(97)costo_minimo()\n",
      "-> fila = fila[0]\n"
     ]
    },
    {
     "name": "stdin",
     "output_type": "stream",
     "text": [
      "(Pdb)  n\n"
     ]
    },
    {
     "name": "stdout",
     "output_type": "stream",
     "text": [
      "> <ipython-input-121-d90ba9d6e13f>(98)costo_minimo()\n",
      "-> col = np.where(costos_sobrantes[fila] == minimo)[0][0]\n"
     ]
    },
    {
     "name": "stdin",
     "output_type": "stream",
     "text": [
      "(Pdb)  n\n"
     ]
    },
    {
     "name": "stdout",
     "output_type": "stream",
     "text": [
      "> <ipython-input-121-d90ba9d6e13f>(100)costo_minimo()\n",
      "-> current = min(ofertas[origenes_disponibles][fila], demandas[destinos_disponibles][col])\n"
     ]
    },
    {
     "name": "stdin",
     "output_type": "stream",
     "text": [
      "(Pdb)  fila\n"
     ]
    },
    {
     "name": "stdout",
     "output_type": "stream",
     "text": [
      "0\n"
     ]
    },
    {
     "name": "stdin",
     "output_type": "stream",
     "text": [
      "(Pdb)  col\n"
     ]
    },
    {
     "name": "stdout",
     "output_type": "stream",
     "text": [
      "0\n"
     ]
    },
    {
     "name": "stdin",
     "output_type": "stream",
     "text": [
      "(Pdb)  n\n"
     ]
    },
    {
     "name": "stdout",
     "output_type": "stream",
     "text": [
      "> <ipython-input-121-d90ba9d6e13f>(102)costo_minimo()\n",
      "-> campos_disponibles = [x[0] and x[1] for x in itertools.product(origenes_disponibles,destinos_disponibles)]\n"
     ]
    },
    {
     "name": "stdin",
     "output_type": "stream",
     "text": [
      "(Pdb)  n\n"
     ]
    },
    {
     "name": "stdout",
     "output_type": "stream",
     "text": [
      "> <ipython-input-121-d90ba9d6e13f>(103)costo_minimo()\n",
      "-> campos_disponibles = np.array(campos_disponibles).reshape(len(ofertas), len(demandas))\n"
     ]
    },
    {
     "name": "stdin",
     "output_type": "stream",
     "text": [
      "(Pdb)  n\n"
     ]
    },
    {
     "name": "stdout",
     "output_type": "stream",
     "text": [
      "> <ipython-input-121-d90ba9d6e13f>(104)costo_minimo()\n",
      "-> fila = np.where(np.logical_and(costos == minimo, campos_disponibles))[0][0]\n"
     ]
    },
    {
     "name": "stdin",
     "output_type": "stream",
     "text": [
      "(Pdb)  n\n"
     ]
    },
    {
     "name": "stdout",
     "output_type": "stream",
     "text": [
      "> <ipython-input-121-d90ba9d6e13f>(105)costo_minimo()\n",
      "-> col = np.where(np.logical_and(costos == minimo, campos_disponibles))[1][0]\n"
     ]
    },
    {
     "name": "stdin",
     "output_type": "stream",
     "text": [
      "(Pdb)  fila\n"
     ]
    },
    {
     "name": "stdout",
     "output_type": "stream",
     "text": [
      "2\n"
     ]
    },
    {
     "name": "stdin",
     "output_type": "stream",
     "text": [
      "(Pdb)  n\n"
     ]
    },
    {
     "name": "stdout",
     "output_type": "stream",
     "text": [
      "> <ipython-input-121-d90ba9d6e13f>(106)costo_minimo()\n",
      "-> mat_dec[fila][col] = current\n"
     ]
    },
    {
     "name": "stdin",
     "output_type": "stream",
     "text": [
      "(Pdb)  col\n"
     ]
    },
    {
     "name": "stdout",
     "output_type": "stream",
     "text": [
      "0\n"
     ]
    },
    {
     "name": "stdin",
     "output_type": "stream",
     "text": [
      "(Pdb)  n\n"
     ]
    },
    {
     "name": "stdout",
     "output_type": "stream",
     "text": [
      "> <ipython-input-121-d90ba9d6e13f>(107)costo_minimo()\n",
      "-> mat_base[fila][col] = True\n"
     ]
    },
    {
     "name": "stdin",
     "output_type": "stream",
     "text": [
      "(Pdb)  c\n"
     ]
    },
    {
     "name": "stdout",
     "output_type": "stream",
     "text": [
      "[[150.   0.   0.   0.   0.]\n",
      " [  0. 200.   0.   0.   0.]\n",
      " [200.   0.   0.   0.   0.]\n",
      " [  0.   0. 130. 130.   0.]]\n",
      "[[ True False False False False]\n",
      " [False  True False False False]\n",
      " [ True False False False False]\n",
      " [False False  True  True False]]\n",
      "origenes disponibles:  [False, False, True, True]\n",
      "destinos disponibles:  [False, True, False, False, True]\n",
      "> <ipython-input-121-d90ba9d6e13f>(90)costo_minimo()\n",
      "-> pdb.set_trace()\n"
     ]
    },
    {
     "name": "stdin",
     "output_type": "stream",
     "text": [
      "(Pdb)  n\n"
     ]
    },
    {
     "name": "stdout",
     "output_type": "stream",
     "text": [
      "> <ipython-input-121-d90ba9d6e13f>(91)costo_minimo()\n",
      "-> costos_sobrantes = costos[origenes_disponibles,:]\n"
     ]
    },
    {
     "name": "stdin",
     "output_type": "stream",
     "text": [
      "(Pdb)  n\n"
     ]
    },
    {
     "name": "stdout",
     "output_type": "stream",
     "text": [
      "> <ipython-input-121-d90ba9d6e13f>(92)costo_minimo()\n",
      "-> costos_sobrantes = costos_sobrantes[:,destinos_disponibles]\n"
     ]
    },
    {
     "name": "stdin",
     "output_type": "stream",
     "text": [
      "(Pdb)  n\n"
     ]
    },
    {
     "name": "stdout",
     "output_type": "stream",
     "text": [
      "> <ipython-input-121-d90ba9d6e13f>(94)costo_minimo()\n",
      "-> minimo = costos_sobrantes.min()\n"
     ]
    },
    {
     "name": "stdin",
     "output_type": "stream",
     "text": [
      "(Pdb)  n\n"
     ]
    },
    {
     "name": "stdout",
     "output_type": "stream",
     "text": [
      "> <ipython-input-121-d90ba9d6e13f>(96)costo_minimo()\n",
      "-> fila = np.where(costos_sobrantes == minimo)[0]\n"
     ]
    },
    {
     "name": "stdin",
     "output_type": "stream",
     "text": [
      "(Pdb)  n\n"
     ]
    },
    {
     "name": "stdout",
     "output_type": "stream",
     "text": [
      "> <ipython-input-121-d90ba9d6e13f>(97)costo_minimo()\n",
      "-> fila = fila[0]\n"
     ]
    },
    {
     "name": "stdin",
     "output_type": "stream",
     "text": [
      "(Pdb)  n\n"
     ]
    },
    {
     "name": "stdout",
     "output_type": "stream",
     "text": [
      "> <ipython-input-121-d90ba9d6e13f>(98)costo_minimo()\n",
      "-> col = np.where(costos_sobrantes[fila] == minimo)[0][0]\n"
     ]
    },
    {
     "name": "stdin",
     "output_type": "stream",
     "text": [
      "(Pdb)  n\n"
     ]
    },
    {
     "name": "stdout",
     "output_type": "stream",
     "text": [
      "> <ipython-input-121-d90ba9d6e13f>(100)costo_minimo()\n",
      "-> current = min(ofertas[origenes_disponibles][fila], demandas[destinos_disponibles][col])\n"
     ]
    },
    {
     "name": "stdin",
     "output_type": "stream",
     "text": [
      "(Pdb)  n\n"
     ]
    },
    {
     "name": "stdout",
     "output_type": "stream",
     "text": [
      "> <ipython-input-121-d90ba9d6e13f>(102)costo_minimo()\n",
      "-> campos_disponibles = [x[0] and x[1] for x in itertools.product(origenes_disponibles,destinos_disponibles)]\n"
     ]
    },
    {
     "name": "stdin",
     "output_type": "stream",
     "text": [
      "(Pdb)  costos_sobrantes\n"
     ]
    },
    {
     "name": "stdout",
     "output_type": "stream",
     "text": [
      "array([[6, 0],\n",
      "       [0, 0]])\n"
     ]
    },
    {
     "name": "stdin",
     "output_type": "stream",
     "text": [
      "(Pdb)  current\n"
     ]
    },
    {
     "name": "stdout",
     "output_type": "stream",
     "text": [
      "90\n"
     ]
    },
    {
     "name": "stdin",
     "output_type": "stream",
     "text": [
      "(Pdb)  n\n"
     ]
    },
    {
     "name": "stdout",
     "output_type": "stream",
     "text": [
      "> <ipython-input-121-d90ba9d6e13f>(103)costo_minimo()\n",
      "-> campos_disponibles = np.array(campos_disponibles).reshape(len(ofertas), len(demandas))\n"
     ]
    },
    {
     "name": "stdin",
     "output_type": "stream",
     "text": [
      "(Pdb)  n\n"
     ]
    },
    {
     "name": "stdout",
     "output_type": "stream",
     "text": [
      "> <ipython-input-121-d90ba9d6e13f>(104)costo_minimo()\n",
      "-> fila = np.where(np.logical_and(costos == minimo, campos_disponibles))[0][0]\n"
     ]
    },
    {
     "name": "stdin",
     "output_type": "stream",
     "text": [
      "(Pdb)  np.where(np.logical_and(costos == minimo, campos_disponibles))[0][0]\n"
     ]
    },
    {
     "name": "stdout",
     "output_type": "stream",
     "text": [
      "2\n"
     ]
    },
    {
     "name": "stdin",
     "output_type": "stream",
     "text": [
      "(Pdb)  np.where(np.logical_and(costos == minimo, campos_disponibles))\n"
     ]
    },
    {
     "name": "stdout",
     "output_type": "stream",
     "text": [
      "(array([2, 3, 3]), array([4, 1, 4]))\n"
     ]
    },
    {
     "name": "stdin",
     "output_type": "stream",
     "text": [
      "(Pdb)  n\n"
     ]
    },
    {
     "name": "stdout",
     "output_type": "stream",
     "text": [
      "> <ipython-input-121-d90ba9d6e13f>(105)costo_minimo()\n",
      "-> col = np.where(np.logical_and(costos == minimo, campos_disponibles))[1][0]\n"
     ]
    },
    {
     "name": "stdin",
     "output_type": "stream",
     "text": [
      "(Pdb)  n\n"
     ]
    },
    {
     "name": "stdout",
     "output_type": "stream",
     "text": [
      "> <ipython-input-121-d90ba9d6e13f>(106)costo_minimo()\n",
      "-> mat_dec[fila][col] = current\n"
     ]
    },
    {
     "name": "stdin",
     "output_type": "stream",
     "text": [
      "(Pdb)  n\n"
     ]
    },
    {
     "name": "stdout",
     "output_type": "stream",
     "text": [
      "> <ipython-input-121-d90ba9d6e13f>(107)costo_minimo()\n",
      "-> mat_base[fila][col] = True\n"
     ]
    },
    {
     "name": "stdin",
     "output_type": "stream",
     "text": [
      "(Pdb)  mat_dec\n"
     ]
    },
    {
     "name": "stdout",
     "output_type": "stream",
     "text": [
      "array([[150.,   0.,   0.,   0.,   0.],\n",
      "       [  0., 200.,   0.,   0.,   0.],\n",
      "       [200.,   0.,   0.,   0.,  90.],\n",
      "       [  0.,   0., 130., 130.,   0.]])\n"
     ]
    },
    {
     "name": "stdin",
     "output_type": "stream",
     "text": [
      "(Pdb)  c\n"
     ]
    },
    {
     "name": "stdout",
     "output_type": "stream",
     "text": [
      "[[150.   0.   0.   0.   0.]\n",
      " [  0. 200.   0.   0.   0.]\n",
      " [200.   0.   0.   0.  90.]\n",
      " [  0.   0. 130. 130.   0.]]\n",
      "[[ True False False False False]\n",
      " [False  True False False False]\n",
      " [ True False False False  True]\n",
      " [False False  True  True False]]\n",
      "origenes disponibles:  [False, False, True, True]\n",
      "destinos disponibles:  [False, True, False, False, False]\n",
      "> <ipython-input-121-d90ba9d6e13f>(90)costo_minimo()\n",
      "-> pdb.set_trace()\n"
     ]
    },
    {
     "name": "stdin",
     "output_type": "stream",
     "text": [
      "(Pdb)  c\n"
     ]
    },
    {
     "name": "stdout",
     "output_type": "stream",
     "text": [
      "[[150.   0.   0.   0.   0.]\n",
      " [  0. 200.   0.   0.   0.]\n",
      " [200.   0.   0.   0.  90.]\n",
      " [  0.  90. 130. 130.   0.]]\n",
      "[[ True False False False False]\n",
      " [False  True False False False]\n",
      " [ True False False False  True]\n",
      " [False  True  True  True False]]\n",
      "origenes disponibles:  [False, False, True, False]\n",
      "destinos disponibles:  [False, True, False, False, False]\n",
      "> <ipython-input-121-d90ba9d6e13f>(91)costo_minimo()\n",
      "-> costos_sobrantes = costos[origenes_disponibles,:]\n"
     ]
    },
    {
     "name": "stdin",
     "output_type": "stream",
     "text": [
      "(Pdb)  c\n"
     ]
    },
    {
     "name": "stdout",
     "output_type": "stream",
     "text": [
      "[[150.   0.   0.   0.   0.]\n",
      " [  0. 200.   0.   0.   0.]\n",
      " [200.  60.   0.   0.  90.]\n",
      " [  0.  90. 130. 130.   0.]]\n",
      "[[ True False False False False]\n",
      " [False  True False False False]\n",
      " [ True  True False False  True]\n",
      " [False  True  True  True False]]\n",
      "origenes disponibles:  [False, False, False, False]\n",
      "destinos disponibles:  [False, True, False, False, False]\n"
     ]
    },
    {
     "data": {
      "text/plain": [
       "(array([[150.,   0.,   0.,   0.,   0.],\n",
       "        [  0., 200.,   0.,   0.,   0.],\n",
       "        [200.,  60.,   0.,   0.,  90.],\n",
       "        [  0.,  90., 130., 130.,   0.]]),\n",
       " array([[ True, False, False, False, False],\n",
       "        [False,  True, False, False, False],\n",
       "        [ True,  True, False, False,  True],\n",
       "        [False,  True,  True,  True, False]]))"
      ]
     },
     "execution_count": 122,
     "metadata": {},
     "output_type": "execute_result"
    }
   ],
   "source": [
    "mat_dec, mat_base = costo_minimo(oferta_origenes, demanda_destinos, mat_costo, num_transbordos)\n",
    "mat_dec, mat_base"
   ]
  },
  {
   "cell_type": "code",
   "execution_count": 123,
   "metadata": {},
   "outputs": [],
   "source": [
    "def preciosSombra():\n",
    "    pass"
   ]
  },
  {
   "cell_type": "code",
   "execution_count": null,
   "metadata": {},
   "outputs": [],
   "source": [
    "num_origenes, num_destinos, num_transbordos, oferta_origenes, demanda_destinos"
   ]
  },
  {
   "cell_type": "code",
   "execution_count": null,
   "metadata": {},
   "outputs": [],
   "source": [
    "mat_costo, mat_dec, mat_sombra"
   ]
  },
  {
   "cell_type": "code",
   "execution_count": null,
   "metadata": {},
   "outputs": [],
   "source": [
    "mat_costo[0], mat_costo"
   ]
  },
  {
   "cell_type": "code",
   "execution_count": null,
   "metadata": {},
   "outputs": [],
   "source": [
    "test = np.array(mat_costo)"
   ]
  },
  {
   "cell_type": "code",
   "execution_count": null,
   "metadata": {},
   "outputs": [],
   "source": [
    "test[0][0]"
   ]
  },
  {
   "cell_type": "code",
   "execution_count": null,
   "metadata": {},
   "outputs": [],
   "source": [
    "test[0][0]=1"
   ]
  },
  {
   "cell_type": "code",
   "execution_count": 17,
   "metadata": {},
   "outputs": [
    {
     "data": {
      "text/plain": [
       "array([ True, False, False])"
      ]
     },
     "execution_count": 17,
     "metadata": {},
     "output_type": "execute_result"
    }
   ],
   "source": [
    "np.logical_and([True, False, True],[True,True,False])"
   ]
  },
  {
   "cell_type": "code",
   "execution_count": 20,
   "metadata": {},
   "outputs": [
    {
     "data": {
      "text/plain": [
       "matrix([[ True],\n",
       "        [False],\n",
       "        [ True]])"
      ]
     },
     "execution_count": 20,
     "metadata": {},
     "output_type": "execute_result"
    }
   ],
   "source": [
    "a = np.matrix([True, False, True])\n",
    "a.T"
   ]
  },
  {
   "cell_type": "code",
   "execution_count": 37,
   "metadata": {},
   "outputs": [
    {
     "data": {
      "text/plain": [
       "[True, True, False, False, False, False, True, True, False]"
      ]
     },
     "execution_count": 37,
     "metadata": {},
     "output_type": "execute_result"
    }
   ],
   "source": [
    "\n",
    "\n"
   ]
  },
  {
   "cell_type": "code",
   "execution_count": null,
   "metadata": {},
   "outputs": [],
   "source": []
  }
 ],
 "metadata": {
  "kernelspec": {
   "display_name": "OptiEnv",
   "language": "python",
   "name": "optienv"
  },
  "language_info": {
   "codemirror_mode": {
    "name": "ipython",
    "version": 3
   },
   "file_extension": ".py",
   "mimetype": "text/x-python",
   "name": "python",
   "nbconvert_exporter": "python",
   "pygments_lexer": "ipython3",
   "version": "3.8.2"
  }
 },
 "nbformat": 4,
 "nbformat_minor": 4
}
